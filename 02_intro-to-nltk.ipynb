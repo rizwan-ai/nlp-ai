{
 "cells": [
  {
   "cell_type": "markdown",
   "metadata": {},
   "source": [
    "## Natural Language Toolkit (NLTK)"
   ]
  },
  {
   "cell_type": "markdown",
   "metadata": {},
   "source": [
    "Natural Language Toolkit (NLTK) is a powerful Python library used for natural language processing (NLP) tasks. It provides tools and resources for processing and analyzing human language data, making it a valuable asset for developers, researchers, and linguists working with textual data. NLTK offers a wide range of functionalities, including tokenization, stemming, lemmatization, part-of-speech tagging, parsing, and more. It also includes corpora and lexical resources for various languages, as well as modules for machine learning and language understanding tasks."
   ]
  },
  {
   "cell_type": "markdown",
   "metadata": {},
   "source": [
    "### NLTK"
   ]
  },
  {
   "cell_type": "markdown",
   "metadata": {},
   "source": [
    "1. <b>Preprocessing tools</b>: like tokenization, stemming, stopwords removal\n",
    "2. <b>Analysis tools</b>: like part-of-speech tagging\n",
    "3. <b>Large language resources</b>: like WordNet (lexical database of English)\n",
    "4. <b>Machine Learning</b>: like text classification"
   ]
  },
  {
   "cell_type": "markdown",
   "metadata": {},
   "source": [
    "NLTK: https://www.nltk.org/"
   ]
  },
  {
   "cell_type": "markdown",
   "metadata": {},
   "source": [
    "### Key Features and Capabilities of NLTK\n",
    "2.  Tokenization\n",
    "3.  Stemming and Lemmatization\n",
    "4.  Part-of-Speech (POS) Tagging\n",
    "5.  Parsing and Chunking\n",
    "6.  Semantic Reasoning\n",
    "7.  Named Entity Recognition (NER)\n",
    "8.  Text Classification and Machine Learning"
   ]
  },
  {
   "cell_type": "markdown",
   "metadata": {},
   "source": [
    "8. Corpora and Lexical Resources: https://www.nltk.org/nltk_data/"
   ]
  },
  {
   "cell_type": "markdown",
   "metadata": {
    "vscode": {
     "languageId": "plaintext"
    }
   },
   "source": [
    "### Installing NLTK"
   ]
  },
  {
   "cell_type": "code",
   "execution_count": 1,
   "metadata": {},
   "outputs": [],
   "source": [
    "# !pip install nltk"
   ]
  },
  {
   "cell_type": "code",
   "execution_count": null,
   "metadata": {},
   "outputs": [],
   "source": [
    "# Requirement already satisfied: nltk in c:\\users\\rizwan\\...\n",
    "# Requirement already satisfied: click in c:\\users\\rizwan\\...\n",
    "# Requirement already satisfied: joblib in c:\\users\\rizwan\\...\n",
    "# Requirement already satisfied: regex>=2021.8.3 in c:\\users\\rizwan\\...\n",
    "# Requirement already satisfied: tqdm in c:\\users\\rizwan\\..."
   ]
  },
  {
   "cell_type": "markdown",
   "metadata": {},
   "source": [
    "### Importing NLTK Python Library "
   ]
  },
  {
   "cell_type": "code",
   "execution_count": 2,
   "metadata": {},
   "outputs": [],
   "source": [
    "import nltk"
   ]
  },
  {
   "cell_type": "code",
   "execution_count": 3,
   "metadata": {},
   "outputs": [
    {
     "data": {
      "text/plain": [
       "'3.8.1'"
      ]
     },
     "execution_count": 3,
     "metadata": {},
     "output_type": "execute_result"
    }
   ],
   "source": [
    "nltk.__version__"
   ]
  },
  {
   "cell_type": "markdown",
   "metadata": {},
   "source": [
    "### NLTK Corpora"
   ]
  },
  {
   "cell_type": "code",
   "execution_count": 4,
   "metadata": {},
   "outputs": [],
   "source": [
    "# Download Tokenization Models\n",
    "nltk.download('punkt')  \n",
    "\n",
    "# Download POS Tagging Models\n",
    "nltk.download('averaged_perceptron_tagger') "
   ]
  },
  {
   "cell_type": "code",
   "execution_count": null,
   "metadata": {},
   "outputs": [],
   "source": [
    "# [nltk_data] Downloading package punkt to\n",
    "# [nltk_data]     C:\\Users\\Rizwan\\AppData\\Roaming\\nltk_data...\n",
    "# [nltk_data]   Unzipping tokenizers\\punkt.zip.\n",
    "# [nltk_data] Downloading package averaged_perceptron_tagger to\n",
    "# [nltk_data]     C:\\Users\\Rizwan\\AppData\\Roaming\\nltk_data...\n",
    "# [nltk_data]   Unzipping taggers\\averaged_perceptron_tagger.zip.\n",
    "\n",
    "# True"
   ]
  },
  {
   "cell_type": "code",
   "execution_count": 5,
   "metadata": {},
   "outputs": [],
   "source": [
    "# Download Twitter Samples\n",
    "# ?\n",
    "\n",
    "# Download Stopwords Corpus \n",
    "# ?"
   ]
  },
  {
   "cell_type": "markdown",
   "metadata": {},
   "source": [
    "NLTK Corpora: https://www.nltk.org/nltk_data/"
   ]
  },
  {
   "cell_type": "code",
   "execution_count": null,
   "metadata": {},
   "outputs": [],
   "source": []
  },
  {
   "cell_type": "markdown",
   "metadata": {},
   "source": [
    "### Some simple things you can do with NLTK"
   ]
  },
  {
   "cell_type": "code",
   "execution_count": 6,
   "metadata": {},
   "outputs": [],
   "source": [
    "sentence = \"\"\"Entity, headquartered in Lahore (Gulberg-III, Punjab, Pakistan), unveiled \n",
    "the new Luxury Fabrics at the Expo Centre Lahore, Muhammad Rizwan said in his keynote \n",
    "that users love their new Luxury Fabrics.\"\"\""
   ]
  },
  {
   "cell_type": "code",
   "execution_count": 7,
   "metadata": {},
   "outputs": [],
   "source": [
    "tokens = nltk.word_tokenize(sentence)"
   ]
  },
  {
   "cell_type": "code",
   "execution_count": 8,
   "metadata": {},
   "outputs": [
    {
     "data": {
      "text/plain": [
       "['Entity',\n",
       " ',',\n",
       " 'headquartered',\n",
       " 'in',\n",
       " 'Lahore',\n",
       " '(',\n",
       " 'Gulberg-III',\n",
       " ',',\n",
       " 'Punjab',\n",
       " ',',\n",
       " 'Pakistan',\n",
       " ')',\n",
       " ',',\n",
       " 'unveiled',\n",
       " 'the',\n",
       " 'new',\n",
       " 'Luxury',\n",
       " 'Fabrics',\n",
       " 'at',\n",
       " 'the',\n",
       " 'Expo',\n",
       " 'Centre',\n",
       " 'Lahore',\n",
       " ',',\n",
       " 'Muhammad',\n",
       " 'Rizwan',\n",
       " 'said',\n",
       " 'in',\n",
       " 'his',\n",
       " 'keynote',\n",
       " 'that',\n",
       " 'users',\n",
       " 'love',\n",
       " 'their',\n",
       " 'new',\n",
       " 'Luxury',\n",
       " 'Fabrics',\n",
       " '.']"
      ]
     },
     "execution_count": 8,
     "metadata": {},
     "output_type": "execute_result"
    }
   ],
   "source": [
    "tokens"
   ]
  },
  {
   "cell_type": "code",
   "execution_count": 9,
   "metadata": {},
   "outputs": [],
   "source": [
    "tagged = nltk.pos_tag(tokens)"
   ]
  },
  {
   "cell_type": "code",
   "execution_count": 10,
   "metadata": {},
   "outputs": [
    {
     "data": {
      "text/plain": [
       "[('Entity', 'NN'),\n",
       " (',', ','),\n",
       " ('headquartered', 'VBN'),\n",
       " ('in', 'IN'),\n",
       " ('Lahore', 'NNP'),\n",
       " ('(', '('),\n",
       " ('Gulberg-III', 'NNP'),\n",
       " (',', ','),\n",
       " ('Punjab', 'NNP'),\n",
       " (',', ','),\n",
       " ('Pakistan', 'NNP'),\n",
       " (')', ')'),\n",
       " (',', ','),\n",
       " ('unveiled', 'VBD'),\n",
       " ('the', 'DT'),\n",
       " ('new', 'JJ'),\n",
       " ('Luxury', 'NNP'),\n",
       " ('Fabrics', 'NNS'),\n",
       " ('at', 'IN'),\n",
       " ('the', 'DT'),\n",
       " ('Expo', 'NNP'),\n",
       " ('Centre', 'NNP'),\n",
       " ('Lahore', 'NNP'),\n",
       " (',', ','),\n",
       " ('Muhammad', 'NNP'),\n",
       " ('Rizwan', 'NNP'),\n",
       " ('said', 'VBD'),\n",
       " ('in', 'IN'),\n",
       " ('his', 'PRP$'),\n",
       " ('keynote', 'NN'),\n",
       " ('that', 'IN'),\n",
       " ('users', 'NNS'),\n",
       " ('love', 'VBP'),\n",
       " ('their', 'PRP$'),\n",
       " ('new', 'JJ'),\n",
       " ('Luxury', 'NNP'),\n",
       " ('Fabrics', 'NNP'),\n",
       " ('.', '.')]"
      ]
     },
     "execution_count": 10,
     "metadata": {},
     "output_type": "execute_result"
    }
   ],
   "source": [
    "tagged"
   ]
  },
  {
   "cell_type": "code",
   "execution_count": 11,
   "metadata": {},
   "outputs": [],
   "source": [
    "# NN:   Noun, singular\n",
    "# NNP:  Proper noun, singular\n",
    "# NNS:  Noun, plural\n",
    "# VBN:  Verb, past participle\n",
    "# VBD:  Verb, past tense\n",
    "# VBP:  Verb, non-3rd person singular present\n",
    "# IN:   Preposition or subordinating conjunction\n",
    "# DJ:   Adjective (However, it's more commonly represented as JJ for \"adjective\" in NLP contexts.)\n",
    "# DT:   Determiner (e.g., articles like \"the,\" \"a,\" \"an\")\n",
    "# JJ:   Adjective\n",
    "# PRP$: Possessive pronoun (e.g., \"his,\" \"her,\" \"its\")"
   ]
  },
  {
   "cell_type": "markdown",
   "metadata": {},
   "source": [
    "('Entity', 'ORG') 😍"
   ]
  }
 ],
 "metadata": {
  "kernelspec": {
   "display_name": "venv-nlp-ai",
   "language": "python",
   "name": "python3"
  },
  "language_info": {
   "codemirror_mode": {
    "name": "ipython",
    "version": 3
   },
   "file_extension": ".py",
   "mimetype": "text/x-python",
   "name": "python",
   "nbconvert_exporter": "python",
   "pygments_lexer": "ipython3",
   "version": "3.11.8"
  }
 },
 "nbformat": 4,
 "nbformat_minor": 2
}
