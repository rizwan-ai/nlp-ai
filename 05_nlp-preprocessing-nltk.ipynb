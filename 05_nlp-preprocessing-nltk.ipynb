{
 "cells": [
  {
   "cell_type": "markdown",
   "metadata": {},
   "source": [
    "## NLP Preprocessing"
   ]
  },
  {
   "cell_type": "markdown",
   "metadata": {},
   "source": [
    "Natural Language Processing (NLP) preprocessing involves cleaning and transforming text data to make it suitable for analysis or modeling."
   ]
  },
  {
   "cell_type": "markdown",
   "metadata": {},
   "source": [
    "NLP (Natural Language Processing) preprocessing refers to the steps taken to clean and prepare text data for analysis by NLP models. In real-time applications, this involves transforming raw text into a structured format that can be effectively used for tasks like sentiment analysis, text classification, or information extraction. \n",
    "\n",
    "Here's a concise definition of NLP preprocessing:"
   ]
  },
  {
   "cell_type": "markdown",
   "metadata": {},
   "source": [
    "<b>NLP preprocessing is the process of cleaning, organizing, and transforming raw text data into a standardized format suitable for NLP tasks. It involves steps such as tokenization, lowercasing, removing noise (e.g., punctuation, numbers, URLs), handling special characters, and reducing word variations (e.g., stemming or lemmatization). These preprocessing steps enhance the quality of text data, improve model performance, and facilitate meaningful analysis of textual information in real-time applications.</b>"
   ]
  },
  {
   "cell_type": "markdown",
   "metadata": {},
   "source": [
    "1. Tokenization\n",
    "2. Lowercasing\n",
    "3. Stopword Removal\n",
    "4. Noise Removal\n",
    "5. Stemming and Lemmatization\n",
    "6. Text Normalization\n",
    "7. Part-of-Speech (POS) Tagging (optional)\n",
    "8. Entity Recognition (optional)\n",
    "9. Normalization and Encoding\n",
    "10. Vectorization"
   ]
  },
  {
   "cell_type": "markdown",
   "metadata": {},
   "source": [
    "### Setup"
   ]
  },
  {
   "cell_type": "code",
   "execution_count": 1,
   "metadata": {},
   "outputs": [],
   "source": [
    "import nltk \n",
    "from nltk.corpus import twitter_samples\n",
    "\n",
    "import pandas as pd\n",
    "import matplotlib.pyplot as plt"
   ]
  },
  {
   "cell_type": "code",
   "execution_count": 2,
   "metadata": {},
   "outputs": [],
   "source": [
    "import re                                  # Library for regular expression operations\n",
    "import string                              # Module for string operations\n",
    "\n",
    "from nltk.corpus import stopwords          # Module for stop words that come with NLTK\n",
    "from nltk.stem import PorterStemmer        # Module for stemming\n",
    "from nltk.tokenize import TweetTokenizer   # Module for tokenizing strings"
   ]
  },
  {
   "cell_type": "code",
   "execution_count": 3,
   "metadata": {},
   "outputs": [],
   "source": [
    "# nltk.download('twitter_samples')\n",
    "# nltk.download('stopwords')"
   ]
  },
  {
   "cell_type": "markdown",
   "metadata": {},
   "source": [
    "### NLTK Twitter Corpus"
   ]
  },
  {
   "cell_type": "code",
   "execution_count": 4,
   "metadata": {},
   "outputs": [],
   "source": [
    "# Load the Twitter dataset from NLTK\n",
    "positive_tweets = twitter_samples.strings('positive_tweets.json')\n",
    "negative_tweets = twitter_samples.strings('negative_tweets.json')"
   ]
  },
  {
   "cell_type": "markdown",
   "metadata": {},
   "source": [
    "### Preprocessing Pipeline for Sentiment Analysis"
   ]
  },
  {
   "cell_type": "code",
   "execution_count": 5,
   "metadata": {},
   "outputs": [],
   "source": [
    "def preprocess_tweet(tweet):\n",
    "    # Remove URLs, special characters or only # sign, numbers and retweet text RT\n",
    "    tweet = re.sub(r'http\\S+', '', tweet)\n",
    "    tweet = re.sub(r'#', '', tweet)\n",
    "    tweet = re.sub(r'\\d+', '', tweet)\n",
    "    tweet = re.sub(r'\\bRT\\b', '', tweet)\n",
    "    \n",
    "    # Tokenize the tweet (tokenization, lowercase, remove handles and reduce length of repeated characters)\n",
    "    tokenizer = TweetTokenizer(preserve_case=False, strip_handles=True, reduce_len=True)\n",
    "    tokens = tokenizer.tokenize(tweet)\n",
    "    \n",
    "    # Remove stopwords, punctuation, and stem the words\n",
    "    stop_words = set(stopwords.words('english'))\n",
    "    punctuation = set(string.punctuation)\n",
    "    stemmer = PorterStemmer()\n",
    "    tokens_filtered = [stemmer.stem(token) for token in tokens if token not in stop_words and token not in punctuation]\n",
    "    \n",
    "    return ' '.join(tokens_filtered)"
   ]
  },
  {
   "cell_type": "markdown",
   "metadata": {},
   "source": [
    "### EDA on a Twitter dataset"
   ]
  },
  {
   "cell_type": "code",
   "execution_count": 6,
   "metadata": {},
   "outputs": [],
   "source": [
    "# Create a DataFrame for the tweets\n",
    "df_positive = pd.DataFrame(positive_tweets, columns=['tweet'])\n",
    "df_negative = pd.DataFrame(negative_tweets, columns=['tweet'])"
   ]
  },
  {
   "cell_type": "code",
   "execution_count": 7,
   "metadata": {},
   "outputs": [],
   "source": [
    "# Apply preprocessing to the tweets\n",
    "df_positive['clean_tweet'] = df_positive['tweet'].apply(preprocess_tweet)\n",
    "df_negative['clean_tweet'] = df_negative['tweet'].apply(preprocess_tweet)"
   ]
  },
  {
   "cell_type": "code",
   "execution_count": 8,
   "metadata": {},
   "outputs": [
    {
     "data": {
      "text/html": [
       "<div>\n",
       "<style scoped>\n",
       "    .dataframe tbody tr th:only-of-type {\n",
       "        vertical-align: middle;\n",
       "    }\n",
       "\n",
       "    .dataframe tbody tr th {\n",
       "        vertical-align: top;\n",
       "    }\n",
       "\n",
       "    .dataframe thead th {\n",
       "        text-align: right;\n",
       "    }\n",
       "</style>\n",
       "<table border=\"1\" class=\"dataframe\">\n",
       "  <thead>\n",
       "    <tr style=\"text-align: right;\">\n",
       "      <th></th>\n",
       "      <th>tweet</th>\n",
       "      <th>clean_tweet</th>\n",
       "    </tr>\n",
       "  </thead>\n",
       "  <tbody>\n",
       "    <tr>\n",
       "      <th>0</th>\n",
       "      <td>#FollowFriday @France_Inte @PKuchly57 @Milipol...</td>\n",
       "      <td>followfriday top engag member commun week :)</td>\n",
       "    </tr>\n",
       "    <tr>\n",
       "      <th>1</th>\n",
       "      <td>@Lamb2ja Hey James! How odd :/ Please call our...</td>\n",
       "      <td>hey jame odd :/ pleas call contact centr abl a...</td>\n",
       "    </tr>\n",
       "    <tr>\n",
       "      <th>2</th>\n",
       "      <td>@DespiteOfficial we had a listen last night :)...</td>\n",
       "      <td>listen last night :) bleed amaz track scotland</td>\n",
       "    </tr>\n",
       "    <tr>\n",
       "      <th>3</th>\n",
       "      <td>@97sides CONGRATS :)</td>\n",
       "      <td>congrat :)</td>\n",
       "    </tr>\n",
       "    <tr>\n",
       "      <th>4</th>\n",
       "      <td>yeaaaah yippppy!!!  my accnt verified rqst has...</td>\n",
       "      <td>yeaaah yipppi accnt verifi rqst succeed got bl...</td>\n",
       "    </tr>\n",
       "    <tr>\n",
       "      <th>...</th>\n",
       "      <td>...</td>\n",
       "      <td>...</td>\n",
       "    </tr>\n",
       "    <tr>\n",
       "      <th>4995</th>\n",
       "      <td>@chriswiggin3 Chris, that's great to hear :) D...</td>\n",
       "      <td>chri that' great hear :) due time remind inde ...</td>\n",
       "    </tr>\n",
       "    <tr>\n",
       "      <th>4996</th>\n",
       "      <td>@RachelLiskeard Thanks for the shout-out :) It...</td>\n",
       "      <td>thank shout-out :) great aboard</td>\n",
       "    </tr>\n",
       "    <tr>\n",
       "      <th>4997</th>\n",
       "      <td>@side556 Hey!  :)  Long time no talk...</td>\n",
       "      <td>hey :) long time talk ...</td>\n",
       "    </tr>\n",
       "    <tr>\n",
       "      <th>4998</th>\n",
       "      <td>@staybubbly69 as Matt would say. WELCOME TO AD...</td>\n",
       "      <td>matt would say welcom adulthood ... :)</td>\n",
       "    </tr>\n",
       "    <tr>\n",
       "      <th>4999</th>\n",
       "      <td>@DanielOConnel18 you could say he will have eg...</td>\n",
       "      <td>could say egg face :-)</td>\n",
       "    </tr>\n",
       "  </tbody>\n",
       "</table>\n",
       "<p>5000 rows × 2 columns</p>\n",
       "</div>"
      ],
      "text/plain": [
       "                                                  tweet  \\\n",
       "0     #FollowFriday @France_Inte @PKuchly57 @Milipol...   \n",
       "1     @Lamb2ja Hey James! How odd :/ Please call our...   \n",
       "2     @DespiteOfficial we had a listen last night :)...   \n",
       "3                                  @97sides CONGRATS :)   \n",
       "4     yeaaaah yippppy!!!  my accnt verified rqst has...   \n",
       "...                                                 ...   \n",
       "4995  @chriswiggin3 Chris, that's great to hear :) D...   \n",
       "4996  @RachelLiskeard Thanks for the shout-out :) It...   \n",
       "4997            @side556 Hey!  :)  Long time no talk...   \n",
       "4998  @staybubbly69 as Matt would say. WELCOME TO AD...   \n",
       "4999  @DanielOConnel18 you could say he will have eg...   \n",
       "\n",
       "                                            clean_tweet  \n",
       "0          followfriday top engag member commun week :)  \n",
       "1     hey jame odd :/ pleas call contact centr abl a...  \n",
       "2        listen last night :) bleed amaz track scotland  \n",
       "3                                            congrat :)  \n",
       "4     yeaaah yipppi accnt verifi rqst succeed got bl...  \n",
       "...                                                 ...  \n",
       "4995  chri that' great hear :) due time remind inde ...  \n",
       "4996                    thank shout-out :) great aboard  \n",
       "4997                          hey :) long time talk ...  \n",
       "4998             matt would say welcom adulthood ... :)  \n",
       "4999                             could say egg face :-)  \n",
       "\n",
       "[5000 rows x 2 columns]"
      ]
     },
     "execution_count": 8,
     "metadata": {},
     "output_type": "execute_result"
    }
   ],
   "source": [
    "df_positive"
   ]
  },
  {
   "cell_type": "code",
   "execution_count": 9,
   "metadata": {},
   "outputs": [
    {
     "data": {
      "text/html": [
       "<div>\n",
       "<style scoped>\n",
       "    .dataframe tbody tr th:only-of-type {\n",
       "        vertical-align: middle;\n",
       "    }\n",
       "\n",
       "    .dataframe tbody tr th {\n",
       "        vertical-align: top;\n",
       "    }\n",
       "\n",
       "    .dataframe thead th {\n",
       "        text-align: right;\n",
       "    }\n",
       "</style>\n",
       "<table border=\"1\" class=\"dataframe\">\n",
       "  <thead>\n",
       "    <tr style=\"text-align: right;\">\n",
       "      <th></th>\n",
       "      <th>tweet</th>\n",
       "      <th>clean_tweet</th>\n",
       "    </tr>\n",
       "  </thead>\n",
       "  <tbody>\n",
       "    <tr>\n",
       "      <th>0</th>\n",
       "      <td>hopeless for tmr :(</td>\n",
       "      <td>hopeless tmr :(</td>\n",
       "    </tr>\n",
       "    <tr>\n",
       "      <th>1</th>\n",
       "      <td>Everything in the kids section of IKEA is so c...</td>\n",
       "      <td>everyth kid section ikea cute shame i'm nearli...</td>\n",
       "    </tr>\n",
       "    <tr>\n",
       "      <th>2</th>\n",
       "      <td>@Hegelbon That heart sliding into the waste ba...</td>\n",
       "      <td>heart slide wast basket :(</td>\n",
       "    </tr>\n",
       "    <tr>\n",
       "      <th>3</th>\n",
       "      <td>“@ketchBurning: I hate Japanese call him \"bani...</td>\n",
       "      <td>“ hate japanes call bani :( :( ”</td>\n",
       "    </tr>\n",
       "    <tr>\n",
       "      <th>4</th>\n",
       "      <td>Dang starting next week I have \"work\" :(</td>\n",
       "      <td>dang start next week work :(</td>\n",
       "    </tr>\n",
       "    <tr>\n",
       "      <th>...</th>\n",
       "      <td>...</td>\n",
       "      <td>...</td>\n",
       "    </tr>\n",
       "    <tr>\n",
       "      <th>4995</th>\n",
       "      <td>I wanna change my avi but uSanele :(</td>\n",
       "      <td>wanna chang avi usanel :(</td>\n",
       "    </tr>\n",
       "    <tr>\n",
       "      <th>4996</th>\n",
       "      <td>MY PUPPY BROKE HER FOOT :(</td>\n",
       "      <td>puppi broke foot :(</td>\n",
       "    </tr>\n",
       "    <tr>\n",
       "      <th>4997</th>\n",
       "      <td>where's all the jaebum baby pictures :((</td>\n",
       "      <td>where' jaebum babi pictur :(</td>\n",
       "    </tr>\n",
       "    <tr>\n",
       "      <th>4998</th>\n",
       "      <td>But but Mr Ahmad Maslan cooks too :( https://t...</td>\n",
       "      <td>mr ahmad maslan cook :(</td>\n",
       "    </tr>\n",
       "    <tr>\n",
       "      <th>4999</th>\n",
       "      <td>@eawoman As a Hull supporter I am expecting a ...</td>\n",
       "      <td>hull support expect misser week :-(</td>\n",
       "    </tr>\n",
       "  </tbody>\n",
       "</table>\n",
       "<p>5000 rows × 2 columns</p>\n",
       "</div>"
      ],
      "text/plain": [
       "                                                  tweet  \\\n",
       "0                                   hopeless for tmr :(   \n",
       "1     Everything in the kids section of IKEA is so c...   \n",
       "2     @Hegelbon That heart sliding into the waste ba...   \n",
       "3     “@ketchBurning: I hate Japanese call him \"bani...   \n",
       "4              Dang starting next week I have \"work\" :(   \n",
       "...                                                 ...   \n",
       "4995               I wanna change my avi but uSanele :(   \n",
       "4996                         MY PUPPY BROKE HER FOOT :(   \n",
       "4997           where's all the jaebum baby pictures :((   \n",
       "4998  But but Mr Ahmad Maslan cooks too :( https://t...   \n",
       "4999  @eawoman As a Hull supporter I am expecting a ...   \n",
       "\n",
       "                                            clean_tweet  \n",
       "0                                       hopeless tmr :(  \n",
       "1     everyth kid section ikea cute shame i'm nearli...  \n",
       "2                            heart slide wast basket :(  \n",
       "3                      “ hate japanes call bani :( :( ”  \n",
       "4                          dang start next week work :(  \n",
       "...                                                 ...  \n",
       "4995                          wanna chang avi usanel :(  \n",
       "4996                                puppi broke foot :(  \n",
       "4997                       where' jaebum babi pictur :(  \n",
       "4998                            mr ahmad maslan cook :(  \n",
       "4999                hull support expect misser week :-(  \n",
       "\n",
       "[5000 rows x 2 columns]"
      ]
     },
     "execution_count": 9,
     "metadata": {},
     "output_type": "execute_result"
    }
   ],
   "source": [
    "df_negative"
   ]
  },
  {
   "cell_type": "code",
   "execution_count": 10,
   "metadata": {},
   "outputs": [
    {
     "data": {
      "image/png": "[encoded data removed]",
      "text/plain": [
       "<Figure size 640x480 with 1 Axes>"
      ]
     },
     "metadata": {},
     "output_type": "display_data"
    }
   ],
   "source": [
    "# Calculate tweet lengths\n",
    "df_positive['tweet_length'] = df_positive['clean_tweet'].apply(len)\n",
    "df_negative['tweet_length'] = df_negative['clean_tweet'].apply(len)\n",
    "\n",
    "# Plot tweet length distribution\n",
    "plt.hist(df_positive['tweet_length'], bins=20, alpha=0.5, label='Positive')\n",
    "plt.hist(df_negative['tweet_length'], bins=20, alpha=0.5, label='Negative')\n",
    "plt.xlabel('Tweet Length')\n",
    "plt.ylabel('Frequency')\n",
    "plt.legend()\n",
    "plt.show()"
   ]
  },
  {
   "cell_type": "code",
   "execution_count": null,
   "metadata": {},
   "outputs": [],
   "source": []
  },
  {
   "cell_type": "markdown",
   "metadata": {},
   "source": [
    "### Remove Hyperlinks and Hashtag symbols"
   ]
  },
  {
   "cell_type": "code",
   "execution_count": 11,
   "metadata": {},
   "outputs": [
    {
     "name": "stdout",
     "output_type": "stream",
     "text": [
      "My beautiful sunflowers on a sunny Friday morning off :) #sunflowers #favourites #happy #Friday off… https://t.co/3tfYom0N1i\n"
     ]
    }
   ],
   "source": [
    "tweet = positive_tweets[2277]\n",
    "print(tweet)"
   ]
  },
  {
   "cell_type": "code",
   "execution_count": 12,
   "metadata": {},
   "outputs": [
    {
     "name": "stdout",
     "output_type": "stream",
     "text": [
      "My beautiful sunflowers on a sunny Friday morning off :) #sunflowers #favourites #happy #Friday off… \n"
     ]
    }
   ],
   "source": [
    "# Remove URLs\n",
    "tweet = re.sub(r'http\\S+', '', tweet)\n",
    "print(tweet)"
   ]
  },
  {
   "cell_type": "code",
   "execution_count": 13,
   "metadata": {},
   "outputs": [
    {
     "name": "stdout",
     "output_type": "stream",
     "text": [
      "My beautiful sunflowers on a sunny Friday morning off :) sunflowers favourites happy Friday off… \n"
     ]
    }
   ],
   "source": [
    "# Remove only # sign from the word\n",
    "tweet = re.sub(r'#', '', tweet)\n",
    "print(tweet)"
   ]
  },
  {
   "cell_type": "code",
   "execution_count": null,
   "metadata": {},
   "outputs": [],
   "source": []
  },
  {
   "cell_type": "markdown",
   "metadata": {},
   "source": [
    "### Tokenization\n",
    "\n",
    "Tokenization is the process of breaking a stream of text up into words, phrases, symbols, or other meaningful elements called tokens.\n",
    "1. Lowercasing: Converting the text to lower case.\n",
    "2. Remove handles: Removing twitter handles (mentions) from the text.\n",
    "3. Reduce lengthening: Replacing repeated character sequences of length 3 or greater with sequences of length 3."
   ]
  },
  {
   "cell_type": "code",
   "execution_count": 14,
   "metadata": {},
   "outputs": [],
   "source": [
    "# Initialize TweetTokenizer with specified parameters\n",
    "tokenizer = TweetTokenizer(preserve_case=False, strip_handles=True, reduce_len=True)"
   ]
  },
  {
   "cell_type": "code",
   "execution_count": 15,
   "metadata": {},
   "outputs": [
    {
     "name": "stdout",
     "output_type": "stream",
     "text": [
      "['my', 'beautiful', 'sunflowers', 'on', 'a', 'sunny', 'friday', 'morning', 'off', ':)', 'sunflowers', 'favourites', 'happy', 'friday', 'off', '…']\n"
     ]
    }
   ],
   "source": [
    "# Tokenize the tweet\n",
    "tokens = tokenizer.tokenize(tweet)\n",
    "print(tokens)"
   ]
  },
  {
   "cell_type": "code",
   "execution_count": 16,
   "metadata": {},
   "outputs": [
    {
     "name": "stdout",
     "output_type": "stream",
     "text": [
      "['hi', '!', \"i'm\", 'sooo', 'exciteddd', '!', '!', '#nltk', '😀']\n"
     ]
    }
   ],
   "source": [
    "# Example new tweet\n",
    "new_tweet = \"Hi @username! I'm soooooo exciteddddd!! #NLTK 😀\"\n",
    "\n",
    "# Tokenize the tweet \n",
    "tweet_tokens = tokenizer.tokenize(new_tweet)\n",
    "print(tweet_tokens)"
   ]
  },
  {
   "cell_type": "code",
   "execution_count": null,
   "metadata": {},
   "outputs": [],
   "source": []
  },
  {
   "cell_type": "markdown",
   "metadata": {},
   "source": [
    "### Remove stop words and Punctuation\n",
    "\n",
    "Stop words are the most common words in a language like “the”, “is”, “in”, “for”, “where”, “when”, “to”, “at”, etc. These words do not carry important meaning and are usually removed from texts. \n",
    "\n",
    "Punctuation is the use of spacing, conventional signs, and certain typographical devices as aids to the understanding and correct reading of written text. This is usually removed from texts."
   ]
  },
  {
   "cell_type": "code",
   "execution_count": 17,
   "metadata": {},
   "outputs": [
    {
     "name": "stdout",
     "output_type": "stream",
     "text": [
      "['i', 'me', 'my', 'myself', 'we', 'our', 'ours', 'ourselves', 'you', \"you're\", \"you've\", \"you'll\", \"you'd\", 'your', 'yours', 'yourself', 'yourselves', 'he', 'him', 'his', 'himself', 'she', \"she's\", 'her', 'hers', 'herself', 'it', \"it's\", 'its', 'itself', 'they', 'them', 'their', 'theirs', 'themselves', 'what', 'which', 'who', 'whom', 'this', 'that', \"that'll\", 'these', 'those', 'am', 'is', 'are', 'was', 'were', 'be', 'been', 'being', 'have', 'has', 'had', 'having', 'do', 'does', 'did', 'doing', 'a', 'an', 'the', 'and', 'but', 'if', 'or', 'because', 'as', 'until', 'while', 'of', 'at', 'by', 'for', 'with', 'about', 'against', 'between', 'into', 'through', 'during', 'before', 'after', 'above', 'below', 'to', 'from', 'up', 'down', 'in', 'out', 'on', 'off', 'over', 'under', 'again', 'further', 'then', 'once', 'here', 'there', 'when', 'where', 'why', 'how', 'all', 'any', 'both', 'each', 'few', 'more', 'most', 'other', 'some', 'such', 'no', 'nor', 'not', 'only', 'own', 'same', 'so', 'than', 'too', 'very', 's', 't', 'can', 'will', 'just', 'don', \"don't\", 'should', \"should've\", 'now', 'd', 'll', 'm', 'o', 're', 've', 'y', 'ain', 'aren', \"aren't\", 'couldn', \"couldn't\", 'didn', \"didn't\", 'doesn', \"doesn't\", 'hadn', \"hadn't\", 'hasn', \"hasn't\", 'haven', \"haven't\", 'isn', \"isn't\", 'ma', 'mightn', \"mightn't\", 'mustn', \"mustn't\", 'needn', \"needn't\", 'shan', \"shan't\", 'shouldn', \"shouldn't\", 'wasn', \"wasn't\", 'weren', \"weren't\", 'won', \"won't\", 'wouldn', \"wouldn't\"]\n",
      "!\"#$%&'()*+,-./:;<=>?@[\\]^_`{|}~\n"
     ]
    }
   ],
   "source": [
    "# Display the list of NLTK stop words in English and the punctuation symbols\n",
    "stop_words = stopwords.words('english')\n",
    "print(stop_words)\n",
    "punctuation = string.punctuation\n",
    "print(punctuation)"
   ]
  },
  {
   "cell_type": "code",
   "execution_count": 18,
   "metadata": {},
   "outputs": [
    {
     "name": "stdout",
     "output_type": "stream",
     "text": [
      "['my', 'beautiful', 'sunflowers', 'on', 'a', 'sunny', 'friday', 'morning', 'off', ':)', 'sunflowers', 'favourites', 'happy', 'friday', 'off', '…']\n",
      "['beautiful', 'sunflowers', 'sunny', 'friday', 'morning', ':)', 'sunflowers', 'favourites', 'happy', 'friday', '…']\n"
     ]
    }
   ],
   "source": [
    "print(tokens)\n",
    "\n",
    "# Create an empty list to store the clean tweet\n",
    "clean_tweet = []\n",
    "for word in tokens: \n",
    "    if word not in stop_words and word not in punctuation:  \n",
    "        clean_tweet.append(word)\n",
    "\n",
    "# Print the clean tweet\n",
    "print(clean_tweet)"
   ]
  },
  {
   "cell_type": "code",
   "execution_count": 19,
   "metadata": {},
   "outputs": [
    {
     "name": "stdout",
     "output_type": "stream",
     "text": [
      "['hi', 'nlp', 'test', 'tweet', 'stop', 'words']\n"
     ]
    }
   ],
   "source": [
    "# Get the English stopwords and punctuation\n",
    "stop_words = set(stopwords.words('english'))\n",
    "punctuation = set(string.punctuation)\n",
    "\n",
    "# Example list of new_tokens\n",
    "new_tokens = ['hi', 'nlp', '!', 'this', 'is', 'a', 'test', 'tweet', '.', 'with', 'stop', 'words']\n",
    "\n",
    "# Create the clean tweet using list comprehension\n",
    "new_clean_tweet_list = [word for word in new_tokens if word not in stop_words and word not in punctuation]\n",
    "\n",
    "# Print the clean tweet\n",
    "print(new_clean_tweet_list)"
   ]
  },
  {
   "cell_type": "code",
   "execution_count": null,
   "metadata": {},
   "outputs": [],
   "source": []
  },
  {
   "cell_type": "markdown",
   "metadata": {},
   "source": [
    "### Stemming\n",
    "\n",
    "Stemming is the process of reducing inflected (or sometimes derived) words to their word stem, base or root form. Example: “running”, “runs”, and “ran” are reduced to the stem “run”."
   ]
  },
  {
   "cell_type": "markdown",
   "metadata": {},
   "source": [
    "Stemming is the process of converting a word to its most general form, or stem. This helps in reducing the size of our vocabulary."
   ]
  },
  {
   "cell_type": "code",
   "execution_count": 20,
   "metadata": {},
   "outputs": [],
   "source": [
    "# Initialize the PorterStemmer\n",
    "stemmer = PorterStemmer() "
   ]
  },
  {
   "cell_type": "code",
   "execution_count": 21,
   "metadata": {},
   "outputs": [
    {
     "name": "stdout",
     "output_type": "stream",
     "text": [
      "['beautiful', 'sunflowers', 'sunny', 'friday', 'morning', ':)', 'sunflowers', 'favourites', 'happy', 'friday', '…']\n",
      "['beauti', 'sunflow', 'sunni', 'friday', 'morn', ':)', 'sunflow', 'favourit', 'happi', 'friday', '…']\n"
     ]
    }
   ],
   "source": [
    "print(clean_tweet)\n",
    "\n",
    "# Create an empty list to store the stems of words\n",
    "tweet_stem = [] \n",
    "for word in clean_tweet:\n",
    "    stem_word = stemmer.stem(word)  \n",
    "    tweet_stem.append(stem_word)  \n",
    "\n",
    "# Print the stemmed words\n",
    "print(tweet_stem)"
   ]
  },
  {
   "cell_type": "code",
   "execution_count": 22,
   "metadata": {},
   "outputs": [
    {
     "name": "stdout",
     "output_type": "stream",
     "text": [
      "['run', 'play', 'play', 'play']\n"
     ]
    }
   ],
   "source": [
    "# Example list of words (new_clean_tweet)\n",
    "new_clean_tweet = ['running', 'plays', 'played', 'plays']\n",
    "\n",
    "# Perform stemming using list comprehension\n",
    "new_tweet_stem = [stemmer.stem(word) for word in new_clean_tweet]\n",
    "\n",
    "print(new_tweet_stem)"
   ]
  },
  {
   "cell_type": "code",
   "execution_count": 23,
   "metadata": {},
   "outputs": [
    {
     "name": "stdout",
     "output_type": "stream",
     "text": [
      "beauti sunflow sunni friday morn :) sunflow favourit happi friday …\n"
     ]
    }
   ],
   "source": [
    "# Join the words back into a single string\n",
    "tweet = ' '.join(tweet_stem)   \n",
    "print(tweet)"
   ]
  },
  {
   "cell_type": "code",
   "execution_count": null,
   "metadata": {},
   "outputs": [],
   "source": []
  },
  {
   "cell_type": "markdown",
   "metadata": {},
   "source": [
    "### Preprocessing Pipeline for Tweets"
   ]
  },
  {
   "cell_type": "markdown",
   "metadata": {},
   "source": [
    "The <code>preprocess_tweet()</code> function is used to preprocess the tweets. It takes the tweet as input and performs the following steps:\n",
    "1. <b>Remove URLs</b>\n",
    "2. Remove Hashtags (only the hashtag symbol)\n",
    "3. Remove numbers\n",
    "4. Remove retweet text \"RT\"\n",
    "5. <b>Tokenize the tweet</b>\n",
    "6. Convert the tweet to lowercase\n",
    "7. Remove mentions\n",
    "8. Remove repeated characters (only 3 characters or more)\n",
    "9. Remove stopwords and punctuation\n",
    "10. <b>Stem the words</b>\n",
    "11. Join the words back together and return the processed tweet"
   ]
  },
  {
   "cell_type": "code",
   "execution_count": 24,
   "metadata": {},
   "outputs": [
    {
     "name": "stdout",
     "output_type": "stream",
     "text": [
      "beauti sunflow sunni friday morn :) sunflow favourit happi friday …\n"
     ]
    }
   ],
   "source": [
    "# Preprocess the tweet and display the cleaned tweet\n",
    "tweet = positive_tweets[2277]\n",
    "processed_tweet = preprocess_tweet(tweet)\n",
    "print(processed_tweet)"
   ]
  },
  {
   "cell_type": "code",
   "execution_count": null,
   "metadata": {},
   "outputs": [],
   "source": []
  },
  {
   "cell_type": "code",
   "execution_count": 25,
   "metadata": {},
   "outputs": [
    {
     "name": "stdout",
     "output_type": "stream",
     "text": [
      "check amaz articl luxuryfabr entiti\n"
     ]
    }
   ],
   "source": [
    "new_tweet = \"RT @rizwan: Check out this amazing article about #LuxuryFabrics! http://entity.com.pk #Entity\"\n",
    "processed_tweet = preprocess_tweet(new_tweet)\n",
    "print(processed_tweet)"
   ]
  }
 ],
 "metadata": {
  "kernelspec": {
   "display_name": "venv-nlp-ai",
   "language": "python",
   "name": "python3"
  },
  "language_info": {
   "codemirror_mode": {
    "name": "ipython",
    "version": 3
   },
   "file_extension": ".py",
   "mimetype": "text/x-python",
   "name": "python",
   "nbconvert_exporter": "python",
   "pygments_lexer": "ipython3",
   "version": "3.11.8"
  }
 },
 "nbformat": 4,
 "nbformat_minor": 2
}
