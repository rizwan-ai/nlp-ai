{
 "cells": [
  {
   "cell_type": "markdown",
   "metadata": {},
   "source": [
    "## NLP with AI"
   ]
  },
  {
   "cell_type": "markdown",
   "metadata": {},
   "source": [
    "Elevate your expertise in Natural Language Processing (NLP) by staying at the forefront of innovation with the \"NLP with AI\" journey. Explore the latest advancements and master cutting-edge techniques to excel in this dynamic field."
   ]
  },
  {
   "cell_type": "markdown",
   "metadata": {},
   "source": [
    "1. Natural Language Processing with Classification and Vector Spaces\n",
    "2. Natural Language Processing with Probabilistic Models\n",
    "3. Natural Language Processing with Sequence Models\n",
    "4. Natural Language Processing with Attention Models\n",
    "5. Natural Language Processing with Transformers\n",
    "6. Large Language Models (LLMs) "
   ]
  }
 ],
 "metadata": {
  "kernelspec": {
   "display_name": "venv-nlp-ai",
   "language": "python",
   "name": "python3"
  },
  "language_info": {
   "codemirror_mode": {
    "name": "ipython",
    "version": 3
   },
   "file_extension": ".py",
   "mimetype": "text/x-python",
   "name": "python",
   "nbconvert_exporter": "python",
   "pygments_lexer": "ipython3",
   "version": "3.11.8"
  }
 },
 "nbformat": 4,
 "nbformat_minor": 2
}
